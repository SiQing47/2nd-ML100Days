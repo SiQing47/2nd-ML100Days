{
 "cells": [
  {
   "cell_type": "markdown",
   "metadata": {},
   "source": [
    "作業1：\n",
    "\n",
    "請上 Kaggle, 在 Competitions 或 Dataset 中找一組競賽或資料並寫下：\n",
    "https://www.kaggle.com/lava18/google-play-store-apps\n",
    "    \n",
    "1. 你選的這組資料為何重要\n",
    "\n",
    "這是Google play商店裡的APP，裡面有他們的名稱、類型、價格、檔案大小、評分...等，\n",
    "可以用來分析各項條件對於APP使用率的影響\n",
    "\n",
    "2. 資料從何而來 (tips: 譬如提供者是誰、以什麼方式蒐集)\n",
    "\n",
    "提供者為Lavanya Gupta，他是從Google Play Store中利用JQuery抓取出來\n",
    "\n",
    "4. 這組資料想解決的問題如何評估\n",
    "\n",
    "可以分析不同類型的APP的使用率及使用者評價，用以找出市場方向。\n",
    "\n",
    "\n",
    "作業2：\n",
    "\n",
    "想像你經營一個自由載客車隊，你希望能透過數據分析以提升業績，請你思考並描述你如何規劃整體的分析/解決方案：\n",
    "\n",
    "1. 核心問題為何 (tips：如何定義 「提升業績 & 你的假設」)\n",
    "\n",
    "提升業績=提高載客率\n",
    "方法:\n",
    "    (1.找出載客巔峰時間與地點\n",
    "        在巔峰時段，部分空車可在熱門地區繞或等待，就可快速抵達載客地點，降低顧客等待時間。\n",
    "\n",
    "    (2.找出載客量少的時間地點\n",
    "        在載客量少的時間，司機就可以找地方休息，載客量少的地點，司機則可以不用繞去該地方找客人。\n",
    "\n",
    "    (3.找出評分高及評分低的駕駛\n",
    "        每次載客後，都請顧客對於此趟乘車體驗評分，對於乘車感受、價格、司機 評分，對於評價高的司機獎勵，評價低的司機則找出原因改善。\n",
    "\n",
    "    (4.分析有甚麼因素會影響業績\n",
    "        針對每次的評價分析，找出有什麼條件下乘客的分析會比較高。\n",
    "     \n",
    "    (5.對於常客給予回饋\n",
    "        資料中，較常叫車的顧客可以給予回饋，感謝他們的支持。\n",
    "     \n",
    "    (6.對新客戶做出優惠\n",
    "        對於新客戶，可以提出前幾次乘車優惠，擴大市場占有率。\n",
    "\n",
    "2. 資料從何而來 (tips：哪些資料可能會對你想問的問題產生影響 & 資料如何蒐集)\n",
    "\n",
    "    進行載客紀錄及叫車紀錄，只要有載客就把時間、地點、顧客資料、路線、價格..等記錄下來，\n",
    "    對於電話叫車或是APP叫車，也要記錄下來，還要把到達載客的地點所花的時間記錄下來，\n",
    "    最後則是使用者回饋，透過使用者評分，找出評價較高及較低的駕駛，找出滿意及不滿意原因並持續改善。\n",
    "\n",
    "\n",
    "3. 蒐集而來的資料型態為何\n",
    "\n",
    "    時間，上車地點，目的地，叫車方式，到達載客點花的時間，駕駛，乘客姓名，乘客電話，價格，顧客評分，顧客評價。\n",
    "\n",
    "4. 你要回答的問題，其如何評估 (tips：你的假設如何驗證)\n",
    "    \n",
    "    (1.分析完熱門冷門地區及時間後，可以對空車司機建議前往熱門地區等待\n",
    "    (2.對於常搭車的乘客，適時推出優惠的推播通知，進而回饋顧客\n",
    "    (3.對於顧客評分對駕駛進行排行，前幾名給予獎金，激勵員工\n",
    "    \n",
    "\n",
    "作業3：\n",
    "\n",
    "請點選下方檢視範例依照 Day_001_example_of_metrics.ipynb 完成 Mean Squared Error 的函式\n",
    "\n",
    "資料夾結構建立規則提醒：2nd-ML100Days > data資料夾 & homework資料夾 (ipynb檔) \n",
    "\n",
    "(請注意data的存放位置，建議放在*.ipynb 同一個目錄下，這樣才能在不修改code的情況下正常執行)\n"
   ]
  },
  {
   "cell_type": "markdown",
   "metadata": {},
   "source": [
    "# 練習時間\n",
    "#### 請寫一個函式用來計算 Mean Square Error\n",
    "$ MSE = \\frac{1}{n}\\sum_{i=1}^{n}{(Y_i - \\hat{Y}_i)^2} $\n",
    "\n",
    "### Hint: [如何取平方](https://googoodesign.gitbooks.io/-ezpython/unit-1.html)"
   ]
  },
  {
   "cell_type": "code",
   "execution_count": 16,
   "metadata": {},
   "outputs": [],
   "source": [
    "import numpy as np\n",
    "import matplotlib.pyplot as plt\n",
    "import math"
   ]
  },
  {
   "cell_type": "code",
   "execution_count": 27,
   "metadata": {},
   "outputs": [],
   "source": [
    "def mean_squared_error(y,yp):\n",
    "    \"\"\"\n",
    "    請完成這個 Function 後往下執行\n",
    "    \"\"\"\n",
    "    mse = MSE =math.pow(sum(abs(y - yp)) / len(y),2)\n",
    "    return mse\n",
    "    \n"
   ]
  },
  {
   "cell_type": "code",
   "execution_count": 28,
   "metadata": {},
   "outputs": [],
   "source": [
    "def mean_absolute_error(y, yp):\n",
    "    \"\"\"\n",
    "    計算 MAE\n",
    "    Args:\n",
    "        - y: 實際值\n",
    "        - yp: 預測值\n",
    "    Return:\n",
    "        - mae: MAE\n",
    "    \"\"\"\n",
    "    mae = MAE = sum(abs(y - yp)) / len(y)\n",
    "    return mae\n",
    "\n"
   ]
  },
  {
   "cell_type": "code",
   "execution_count": 29,
   "metadata": {},
   "outputs": [
    {
     "data": {
      "image/png": "[encoded data removed]",
      "text/plain": [
       "<Figure size 432x288 with 1 Axes>"
      ]
     },
     "metadata": {
      "needs_background": "light"
     },
     "output_type": "display_data"
    }
   ],
   "source": [
    "w = 3\n",
    "b = 0.5\n",
    "\n",
    "x_lin = np.linspace(0, 100, 101)\n",
    "\n",
    "y = (x_lin + np.random.randn(101) * 5) * w + b\n",
    "\n",
    "plt.plot(x_lin, y, 'b.', label = 'data points')\n",
    "plt.title(\"Assume we have data points\")\n",
    "plt.legend(loc = 2)\n",
    "plt.show()"
   ]
  },
  {
   "cell_type": "code",
   "execution_count": 30,
   "metadata": {},
   "outputs": [
    {
     "data": {
      "image/png": "[encoded data removed]",
      "text/plain": [
       "<Figure size 432x288 with 1 Axes>"
      ]
     },
     "metadata": {
      "needs_background": "light"
     },
     "output_type": "display_data"
    }
   ],
   "source": [
    "y_hat = x_lin * w + b\n",
    "plt.plot(x_lin, y, 'b.', label = 'data')\n",
    "plt.plot(x_lin, y_hat, 'r-', label = 'prediction')\n",
    "plt.title(\"Assume we have data points (And the prediction)\")\n",
    "plt.legend(loc = 2)\n",
    "plt.show()"
   ]
  },
  {
   "cell_type": "code",
   "execution_count": 31,
   "metadata": {},
   "outputs": [
    {
     "name": "stdout",
     "output_type": "stream",
     "text": [
      "The Mean squared error is 157.290\n",
      "The Mean absolute error is 12.542\n"
     ]
    }
   ],
   "source": [
    "# 執行 Function, 確認有沒有正常執行\n",
    "MSE = mean_squared_error(y, y_hat)\n",
    "MAE = mean_absolute_error(y, y_hat)\n",
    "print(\"The Mean squared error is %.3f\" % (MSE))\n",
    "print(\"The Mean absolute error is %.3f\" % (MAE))"
   ]
  }
 ],
 "metadata": {
  "anaconda-cloud": {},
  "kernelspec": {
   "display_name": "Python 3",
   "language": "python",
   "name": "python3"
  },
  "language_info": {
   "codemirror_mode": {
    "name": "ipython",
    "version": 3
   },
   "file_extension": ".py",
   "mimetype": "text/x-python",
   "name": "python",
   "nbconvert_exporter": "python",
   "pygments_lexer": "ipython3",
   "version": "3.7.3"
  }
 },
 "nbformat": 4,
 "nbformat_minor": 1
}
